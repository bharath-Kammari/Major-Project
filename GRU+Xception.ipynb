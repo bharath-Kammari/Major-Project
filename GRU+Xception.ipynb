{
 "cells": [
  {
   "cell_type": "code",
   "execution_count": 3,
   "metadata": {},
   "outputs": [],
   "source": [
    "import numpy as np\n",
    "import pandas as pd\n",
    "from sklearn.metrics import accuracy_score,precision_score,f1_score\n",
    "from sklearn.model_selection import train_test_split\n",
    "from keras.applications.xception import Xception\n",
    "from keras.preprocessing.text import Tokenizer\n",
    "from keras.layers import Dense, Input, concatenate,GRU, Embedding, GlobalMaxPooling2D\n",
    "from keras.models import Model\n",
    "from keras.preprocessing.image import img_to_array, load_img\n",
    "from keras.preprocessing.sequence import pad_sequences\n",
    "from keras.utils import to_categorical"
   ]
  },
  {
   "cell_type": "markdown",
   "metadata": {},
   "source": [
    "Load text data"
   ]
  },
  {
   "cell_type": "code",
   "execution_count": 4,
   "metadata": {},
   "outputs": [],
   "source": [
    "train_data = pd.read_csv('task_informative_text_img_train.csv')\n",
    "test_data = pd.read_csv('task_informative_text_img_test.csv')\n",
    "val_data = pd.read_csv('task_informative_text_img_dev.csv')"
   ]
  },
  {
   "cell_type": "code",
   "execution_count": 5,
   "metadata": {},
   "outputs": [],
   "source": [
    "X1_text=[]\n",
    "Y1_text=[]\n",
    "X2_text=[]\n",
    "Y2_text=[]\n",
    "X3_text=[]\n",
    "Y3_text=[]\n",
    "# train\n",
    "for i in range(0,13608):\n",
    "    if train_data['label_text'][i]==train_data['label_image'][i]:\n",
    "        X1_text.append(train_data['tweet_text'][i])\n",
    "        Y1_text.append(train_data['label_text'][i])"
   ]
  },
  {
   "cell_type": "code",
   "execution_count": 6,
   "metadata": {},
   "outputs": [],
   "source": [
    "for i in range(0,2237):\n",
    "    if test_data['label_text'][i]==test_data['label_image'][i]:\n",
    "        X2_text.append(test_data['tweet_text'][i])\n",
    "        Y2_text.append(test_data['label_text'][i])"
   ]
  },
  {
   "cell_type": "code",
   "execution_count": 7,
   "metadata": {},
   "outputs": [],
   "source": [
    "for i in range(0,2237):\n",
    "    if val_data['label_text'][i]==val_data['label_image'][i]:\n",
    "        X3_text.append(val_data['tweet_text'][i])\n",
    "        Y3_text.append(val_data['label_text'][i])\n",
    "# Tokenize text data\n",
    "max_words = 10000\n",
    "max_len = 100\n",
    "tokenizer = Tokenizer(num_words=max_words)\n",
    "tokenizer.fit_on_texts(X1_text)\n",
    "sequences_train = tokenizer.texts_to_sequences(X1_text)\n",
    "sequences_test = tokenizer.texts_to_sequences(X2_text)\n",
    "sequences_val = tokenizer.texts_to_sequences(X3_text)\n",
    "x_train = pad_sequences(sequences_train, maxlen=max_len)\n",
    "x_test = pad_sequences(sequences_test, maxlen=max_len)\n",
    "x_val = pad_sequences(sequences_val, maxlen=max_len)"
   ]
  },
  {
   "cell_type": "code",
   "execution_count": 8,
   "metadata": {},
   "outputs": [],
   "source": [
    "X1_image=[]\n",
    "Y1_image=[]\n",
    "X2_image=[]\n",
    "Y2_image=[]\n",
    "X3_image=[]\n",
    "Y3_image=[]\n",
    "# train\n",
    "for i in range(0,13608):\n",
    "    if train_data['label_text'][i]==train_data['label_image'][i]:\n",
    "        X1_image.append(train_data['image'][i])\n",
    "        Y1_image.append(train_data['label_image'][i])"
   ]
  },
  {
   "cell_type": "code",
   "execution_count": 9,
   "metadata": {},
   "outputs": [],
   "source": [
    "for i in range(0,2237):\n",
    "    if test_data['label_text'][i]==test_data['label_image'][i]:\n",
    "        X2_image.append(test_data['image'][i])\n",
    "        Y2_image.append(test_data['label_image'][i])"
   ]
  },
  {
   "cell_type": "code",
   "execution_count": 10,
   "metadata": {},
   "outputs": [],
   "source": [
    "for i in range(0,2237):\n",
    "    if val_data['label_text'][i]==val_data['label_image'][i]:\n",
    "        X3_image.append(val_data['image'][i])\n",
    "        Y3_image.append(val_data['label_image'][i])\n",
    "# Load image data\n",
    "img_width, img_height = 100, 100\n",
    "num_classes = 2\n",
    "img_train = []\n",
    "img_test = []\n",
    "img_val = []"
   ]
  },
  {
   "cell_type": "code",
   "execution_count": 11,
   "metadata": {},
   "outputs": [
    {
     "name": "stderr",
     "output_type": "stream",
     "text": [
      "/opt/anaconda/envs/wmlce/lib/python3.6/site-packages/PIL/Image.py:960: UserWarning: Palette images with Transparency expressed in bytes should be converted to RGBA images\n",
      "  \"Palette images with Transparency expressed in bytes should be \"\n"
     ]
    }
   ],
   "source": [
    "for filename in X1_image:\n",
    "    img = load_img( filename, target_size=(img_width, img_height))\n",
    "    img_array = img_to_array(img)\n",
    "    img_train.append(img_array)"
   ]
  },
  {
   "cell_type": "code",
   "execution_count": 12,
   "metadata": {},
   "outputs": [],
   "source": [
    "for filename in X2_image:\n",
    "    img = load_img( filename, target_size=(img_width, img_height))\n",
    "    img_array = img_to_array(img)\n",
    "    img_test.append(img_array)"
   ]
  },
  {
   "cell_type": "code",
   "execution_count": 13,
   "metadata": {},
   "outputs": [],
   "source": [
    "for filename in X3_image:\n",
    "    img = load_img( filename, target_size=(img_width, img_height))\n",
    "    img_array = img_to_array(img)\n",
    "    img_val.append(img_array)"
   ]
  },
  {
   "cell_type": "code",
   "execution_count": 14,
   "metadata": {},
   "outputs": [],
   "source": [
    "img_train = np.array(img_train)\n",
    "img_test = np.array(img_test)\n",
    "img_val = np.array(img_val)"
   ]
  },
  {
   "cell_type": "markdown",
   "metadata": {},
   "source": [
    "Define gru model"
   ]
  },
  {
   "cell_type": "code",
   "execution_count": 15,
   "metadata": {},
   "outputs": [],
   "source": [
    "gru_input = Input(shape=(max_len,))\n",
    "embedding_layer = Embedding(max_words, 128)(gru_input)\n",
    "gru_layer = GRU(64, dropout=0.2, recurrent_dropout=0.2)(embedding_layer)\n",
    "gru_output = Dense(num_classes, activation='sigmoid')(gru_layer)\n",
    "gru_model = Model(inputs=gru_input, outputs=gru_output)"
   ]
  },
  {
   "cell_type": "markdown",
   "metadata": {},
   "source": [
    "Define Xception model"
   ]
  },
  {
   "cell_type": "code",
   "execution_count": 16,
   "metadata": {},
   "outputs": [],
   "source": [
    "xception_input = Input(shape=(img_width, img_height, 3))\n",
    "xception_model = Xception(weights='imagenet', include_top=False, input_tensor=xception_input, pooling='max')\n",
    "xception_output = Dense(num_classes, activation='sigmoid')(xception_model.output)\n",
    "xception_model = Model(inputs=xception_input, outputs=xception_output)"
   ]
  },
  {
   "cell_type": "markdown",
   "metadata": {},
   "source": [
    "Combine gru and Xception models with intermediate fusion"
   ]
  },
  {
   "cell_type": "code",
   "execution_count": 17,
   "metadata": {},
   "outputs": [
    {
     "name": "stdout",
     "output_type": "stream",
     "text": [
      "(None, 2)\n",
      "(None, 2)\n"
     ]
    }
   ],
   "source": [
    "print(np.shape(gru_model.output))\n",
    "print(np.shape(xception_model.output))\n",
    "combined_input = concatenate([gru_model.output, xception_model.output])\n",
    "fusion_output = Dense(num_classes, activation='sigmoid')(combined_input)\n",
    "fusion_model = Model(inputs=[gru_model.input, xception_model.input], outputs=fusion_output)"
   ]
  },
  {
   "cell_type": "markdown",
   "metadata": {},
   "source": [
    "Compile the fusion model"
   ]
  },
  {
   "cell_type": "code",
   "execution_count": 18,
   "metadata": {},
   "outputs": [],
   "source": [
    "fusion_model.compile(loss='binary_crossentropy', optimizer='adam', metrics=['accuracy'])"
   ]
  },
  {
   "cell_type": "markdown",
   "metadata": {},
   "source": [
    "Train the fusion model"
   ]
  },
  {
   "cell_type": "code",
   "execution_count": 19,
   "metadata": {},
   "outputs": [],
   "source": [
    "tempTr=[]\n",
    "tempTe=[]\n",
    "tempDe=[]"
   ]
  },
  {
   "cell_type": "code",
   "execution_count": 20,
   "metadata": {},
   "outputs": [],
   "source": [
    "for i in range(0, len(Y1_text)):\n",
    "    if Y1_text[i] == 'informative':\n",
    "        tempTr.append(0)\n",
    "    else:\n",
    "        tempTr.append(1)\n",
    "for i in range(0, len(Y2_text)):\n",
    "    if Y2_text[i] == 'informative':\n",
    "        tempTe.append(0)\n",
    "    else:\n",
    "        tempTe.append(1)\n",
    "for i in range(0, len(Y3_text)):\n",
    "    if Y3_text[i] == 'informative':\n",
    "        tempDe.append(0)\n",
    "    else:\n",
    "        tempDe.append(1)\n",
    "labels_train = tempTr\n",
    "labels_test = tempTe\n",
    "labels_val = tempDe\n",
    "y_train = to_categorical(labels_train, num_classes=num_classes)\n",
    "y_test = to_categorical(labels_test, num_classes=num_classes)\n",
    "y_val = to_categorical(labels_val, num_classes=num_classes)"
   ]
  },
  {
   "cell_type": "code",
   "execution_count": 22,
   "metadata": {},
   "outputs": [
    {
     "name": "stdout",
     "output_type": "stream",
     "text": [
      "Train on 9601 samples, validate on 1573 samples\n",
      "Epoch 1/10\n",
      "9601/9601 [==============================] - 563s 59ms/step - loss: 0.6085 - accuracy: 0.6989 - val_loss: 0.5984 - val_accuracy: 0.6888\n",
      "Epoch 2/10\n",
      "9601/9601 [==============================] - 563s 59ms/step - loss: 0.5919 - accuracy: 0.7164 - val_loss: 0.5937 - val_accuracy: 0.7152\n",
      "Epoch 3/10\n",
      "9601/9601 [==============================] - 526s 55ms/step - loss: 0.5773 - accuracy: 0.7299 - val_loss: 0.6175 - val_accuracy: 0.6910\n",
      "Epoch 4/10\n",
      "9601/9601 [==============================] - 495s 52ms/step - loss: 0.5656 - accuracy: 0.7442 - val_loss: 0.5576 - val_accuracy: 0.7502\n",
      "Epoch 5/10\n",
      "9601/9601 [==============================] - 494s 51ms/step - loss: 0.5462 - accuracy: 0.7621 - val_loss: 0.5822 - val_accuracy: 0.7301\n",
      "Epoch 6/10\n",
      "9601/9601 [==============================] - 493s 51ms/step - loss: 0.5304 - accuracy: 0.7752 - val_loss: 0.5822 - val_accuracy: 0.6834\n",
      "Epoch 7/10\n",
      "9601/9601 [==============================] - 491s 51ms/step - loss: 0.5143 - accuracy: 0.7869 - val_loss: 0.6049 - val_accuracy: 0.7130\n",
      "Epoch 8/10\n",
      "9601/9601 [==============================] - 489s 51ms/step - loss: 0.5054 - accuracy: 0.7909 - val_loss: 0.5719 - val_accuracy: 0.7381\n",
      "Epoch 9/10\n",
      "9601/9601 [==============================] - 489s 51ms/step - loss: 0.4848 - accuracy: 0.8052 - val_loss: 0.6036 - val_accuracy: 0.6678\n",
      "Epoch 10/10\n",
      "9601/9601 [==============================] - 488s 51ms/step - loss: 0.4606 - accuracy: 0.8243 - val_loss: 0.6154 - val_accuracy: 0.6446\n"
     ]
    }
   ],
   "source": [
    "history = fusion_model.fit([x_train, img_train], y_train,\n",
    "                           epochs=10, batch_size=40,\n",
    "                           validation_data=([x_val, img_val], y_val))"
   ]
  },
  {
   "cell_type": "markdown",
   "metadata": {},
   "source": [
    "Evaluate the fusion model"
   ]
  },
  {
   "cell_type": "code",
   "execution_count": 23,
   "metadata": {},
   "outputs": [],
   "source": [
    "score = fusion_model.evaluate([x_test, img_test], y_test, verbose=0)"
   ]
  },
  {
   "cell_type": "markdown",
   "metadata": {},
   "source": [
    "Print accuracy, precision, and F1 score"
   ]
  },
  {
   "cell_type": "code",
   "execution_count": 24,
   "metadata": {},
   "outputs": [
    {
     "name": "stdout",
     "output_type": "stream",
     "text": [
      "Accuracy: 67.60%\n",
      "Precision: 75.59%\n",
      "F1 Score: 68.51%\n"
     ]
    }
   ],
   "source": [
    "y_pred = fusion_model.predict([x_test, img_test])\n",
    "y_pred = np.argmax(y_pred, axis=1)\n",
    "y_test = np.argmax(y_test, axis=1)\n",
    "acc = accuracy_score(y_test, y_pred)\n",
    "precision = precision_score(y_test, y_pred, average='weighted')\n",
    "f1 = f1_score(y_test, y_pred, average='weighted')\n",
    "print(\"Accuracy: {:.2f}%\".format(acc*100))\n",
    "print(\"Precision: {:.2f}%\".format(precision*100))\n",
    "print(\"F1 Score: {:.2f}%\".format(f1*100))"
   ]
  },
  {
   "cell_type": "code",
   "execution_count": 25,
   "metadata": {},
   "outputs": [
    {
     "name": "stdout",
     "output_type": "stream",
     "text": [
      "              precision    recall  f1-score   support\n",
      "\n",
      "           0       0.88      0.60      0.71      1030\n",
      "           1       0.50      0.83      0.63       504\n",
      "\n",
      "    accuracy                           0.68      1534\n",
      "   macro avg       0.69      0.72      0.67      1534\n",
      "weighted avg       0.76      0.68      0.69      1534\n",
      "\n"
     ]
    }
   ],
   "source": [
    "from sklearn.metrics import classification_report\n",
    "print(classification_report(y_test, y_pred))"
   ]
  }
 ],
 "metadata": {
  "kernelspec": {
   "display_name": "Python 3",
   "language": "python",
   "name": "python3"
  },
  "language_info": {
   "codemirror_mode": {
    "name": "ipython",
    "version": 3
   },
   "file_extension": ".py",
   "mimetype": "text/x-python",
   "name": "python",
   "nbconvert_exporter": "python",
   "pygments_lexer": "ipython3",
   "version": "3.6.12"
  }
 },
 "nbformat": 4,
 "nbformat_minor": 2
}
