{
 "cells": [
  {
   "cell_type": "code",
   "execution_count": null,
   "metadata": {},
   "outputs": [],
   "source": [
    "import numpy as np\n",
    "import pandas as pd\n",
    "from keras.applications.xception import Xception\n",
    "from keras.preprocessing.image import load_img, img_to_array\n",
    "#from keras.utils import load_img,img_to_array\n",
    "from keras.layers import Dense, Input\n",
    "from keras.models import Model\n",
    "from keras.utils import to_categorical\n",
    "from sklearn.metrics import classification_report"
   ]
  },
  {
   "cell_type": "markdown",
   "metadata": {},
   "source": [
    "Load data"
   ]
  },
  {
   "cell_type": "code",
   "execution_count": null,
   "metadata": {},
   "outputs": [],
   "source": [
    "train_data = pd.read_csv('task_damage_text_img_train.csv')\n",
    "test_data = pd.read_csv('task_damage_text_img_test.csv')\n",
    "val_data = pd.read_csv('task_damage_text_img_dev.csv')"
   ]
  },
  {
   "cell_type": "markdown",
   "metadata": {},
   "source": [
    "Load image data"
   ]
  },
  {
   "cell_type": "code",
   "execution_count": null,
   "metadata": {},
   "outputs": [],
   "source": [
    "img_width, img_height = 100, 100\n",
    "num_classes = 3\n",
    "img_train = []\n",
    "img_test = []\n",
    "img_val = []"
   ]
  },
  {
   "cell_type": "code",
   "execution_count": null,
   "metadata": {},
   "outputs": [],
   "source": [
    "for filename in train_data['image']:\n",
    "    img = load_img( filename, target_size=(img_width, img_height))\n",
    "    img_array = img_to_array(img)\n",
    "    img_train.append(img_array)"
   ]
  },
  {
   "cell_type": "code",
   "execution_count": null,
   "metadata": {},
   "outputs": [],
   "source": [
    "for filename in test_data['image']:\n",
    "    img = load_img( filename, target_size=(img_width, img_height))\n",
    "    img_array = img_to_array(img)\n",
    "    img_test.append(img_array)"
   ]
  },
  {
   "cell_type": "code",
   "execution_count": null,
   "metadata": {},
   "outputs": [],
   "source": [
    "for filename in val_data['image']:\n",
    "    img = load_img( filename, target_size=(img_width, img_height))\n",
    "    img_array = img_to_array(img)\n",
    "    img_val.append(img_array)"
   ]
  },
  {
   "cell_type": "code",
   "execution_count": null,
   "metadata": {},
   "outputs": [],
   "source": [
    "img_train = np.array(img_train)\n",
    "img_test = np.array(img_test)\n",
    "img_val = np.array(img_val)"
   ]
  },
  {
   "cell_type": "markdown",
   "metadata": {},
   "source": [
    "Preprocess data"
   ]
  },
  {
   "cell_type": "code",
   "execution_count": null,
   "metadata": {},
   "outputs": [],
   "source": [
    "img_train = img_train / 255.0\n",
    "img_test = img_test / 255.0\n",
    "img_val = img_val / 255.0"
   ]
  },
  {
   "cell_type": "code",
   "execution_count": null,
   "metadata": {},
   "outputs": [],
   "source": [
    "tempTrain=[]\n",
    "tempTest=[]\n",
    "tempVal=[]\n",
    "\n",
    "for i in range(0, 2468):\n",
    "    if train_data['label'][i] == 'severe_damage':\n",
    "        tempTrain.append(0)\n",
    "    elif train_data['label'][i] == 'mild_damage':\n",
    "        tempTrain.append(1)\n",
    "    elif train_data['label'][i] == 'little_or_no_damage':\n",
    "        tempTrain.append(2)\n",
    "\n",
    "for i in range(0, 529):\n",
    "    if test_data['label'][i] == 'severe_damage':\n",
    "        tempTest.append(0)\n",
    "    elif test_data['label'][i] == 'mild_damage':\n",
    "        tempTest.append(1)\n",
    "    elif test_data['label'][i] == 'little_or_no_damage':\n",
    "        tempTest.append(2)\n",
    "\n",
    "for i in range(0, 529):\n",
    "    if val_data['label'][i] == 'severe_damage':\n",
    "        tempVal.append(0)\n",
    "    elif val_data['label'][i] == 'mild_damage':\n",
    "        tempVal.append(1)\n",
    "    elif val_data['label'][i] == 'little_or_no_damage':\n",
    "        tempVal.append(2)\n",
    "labels_train = tempTrain\n",
    "labels_test = tempTest\n",
    "labels_val = tempVal\n",
    "Y_train = to_categorical(labels_train, num_classes=num_classes)\n",
    "Y_test = to_categorical(labels_test, num_classes=num_classes)\n",
    "Y_val = to_categorical(labels_val, num_classes=num_classes)"
   ]
  },
  {
   "cell_type": "markdown",
   "metadata": {},
   "source": [
    "Define Xception model"
   ]
  },
  {
   "cell_type": "code",
   "execution_count": null,
   "metadata": {},
   "outputs": [],
   "source": [
    "xception_input = Input(shape=(img_width, img_height, 3))\n",
    "xception_model = Xception(weights='imagenet', include_top=False, input_tensor=xception_input, pooling='max')\n",
    "xception_output = Dense(num_classes, activation='softmax')(xception_model.output)\n",
    "xception_model = Model(inputs=xception_input, outputs=xception_output)"
   ]
  },
  {
   "cell_type": "markdown",
   "metadata": {},
   "source": [
    "Compile the model"
   ]
  },
  {
   "cell_type": "code",
   "execution_count": null,
   "metadata": {},
   "outputs": [],
   "source": [
    "xception_model.compile(loss='categorical_crossentropy', optimizer='adam', metrics=['accuracy'])"
   ]
  },
  {
   "cell_type": "markdown",
   "metadata": {},
   "source": [
    "Train the model"
   ]
  },
  {
   "cell_type": "code",
   "execution_count": null,
   "metadata": {},
   "outputs": [],
   "source": [
    "xception_model.fit(img_train, Y_train, batch_size=40, epochs=10, validation_data=(img_val, Y_val))"
   ]
  },
  {
   "cell_type": "markdown",
   "metadata": {},
   "source": [
    "Evaluate the model"
   ]
  },
  {
   "cell_type": "code",
   "execution_count": null,
   "metadata": {
    "scrolled": true
   },
   "outputs": [],
   "source": [
    "_, accuracy = xception_model.evaluate(img_test, Y_test)\n",
    "print('Accuracy: %.2f' % (accuracy*100))"
   ]
  },
  {
   "cell_type": "markdown",
   "metadata": {},
   "source": [
    "Make predictions on the test dataset"
   ]
  },
  {
   "cell_type": "code",
   "execution_count": null,
   "metadata": {},
   "outputs": [],
   "source": [
    "y_pred = xception_model.predict(img_test)\n",
    "y_pred_classes = np.argmax(y_pred, axis=1)"
   ]
  },
  {
   "cell_type": "markdown",
   "metadata": {},
   "source": [
    "Convert labels from one-hot encoding to integers"
   ]
  },
  {
   "cell_type": "code",
   "execution_count": null,
   "metadata": {},
   "outputs": [],
   "source": [
    "y_test_classes = np.argmax(Y_test, axis=1)"
   ]
  },
  {
   "cell_type": "markdown",
   "metadata": {},
   "source": [
    "Generate classification report"
   ]
  },
  {
   "cell_type": "code",
   "execution_count": null,
   "metadata": {},
   "outputs": [],
   "source": [
    "report = classification_report(y_test_classes, y_pred_classes)\n",
    "print(report)"
   ]
  }
 ],
 "metadata": {
  "kernelspec": {
   "display_name": "Python 3",
   "language": "python",
   "name": "python3"
  },
  "language_info": {
   "codemirror_mode": {
    "name": "ipython",
    "version": 3
   },
   "file_extension": ".py",
   "mimetype": "text/x-python",
   "name": "python",
   "nbconvert_exporter": "python",
   "pygments_lexer": "ipython3",
   "version": "3.6.12"
  }
 },
 "nbformat": 4,
 "nbformat_minor": 2
}
